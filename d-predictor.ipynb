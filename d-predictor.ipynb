{
 "cells": [
  {
   "cell_type": "code",
   "execution_count": 36,
   "metadata": {
    "collapsed": true
   },
   "outputs": [],
   "source": [
    "import glob\n",
    "import numpy as np\n",
    "import sys\n",
    "from tqdm import tqdm\n",
    "\n",
    "tqdm.pandas()\n",
    "\n",
    "files_to_load = sorted(glob.glob('data/AAPL*.npy'))\n",
    "\n",
    "if not files_to_load:\n",
    "    sys.exit('Files to load not found')\n",
    "\n",
    "d_num_layers = 6  # Price, Ordered volume, Filled volume, Canceled volume, Pending volume, Time index\n",
    "d_num_price_levels = 10 * 2 * 2  # price level ($10) per 50 cents per level (*2) per side (*2)\n",
    "d_minutes_per_day = int(6.5 * 60)  # 6 hours 30 minutes of data per trading session, from 9:30 to 16:00\n",
    "\n",
    "d = np.zeros((d_num_layers, d_num_price_levels, d_minutes_per_day * len(files_to_load)), np.float32)\n",
    "\n",
    "load_pointer = 0\n",
    "for file in files_to_load:\n",
    "    d[:, :, load_pointer:load_pointer + d_minutes_per_day] = np.load(file)\n",
    "    load_pointer += d_minutes_per_day\n"
   ]
  },
  {
   "cell_type": "code",
   "execution_count": 37,
   "outputs": [
    {
     "data": {
      "text/plain": "array([[179. , 179. , 179. , ..., 183.5, 183.5, 183.5],\n       [178.5, 178.5, 178.5, ..., 183. , 183. , 183. ],\n       [178. , 178. , 178. , ..., 182.5, 182.5, 182.5],\n       ...,\n       [160.5, 160.5, 160.5, ..., 165. , 165. , 165. ],\n       [160. , 160. , 160. , ..., 164.5, 164.5, 164.5],\n       [159.5, 159.5, 159.5, ..., 164. , 164. , 164. ]], dtype=float32)"
     },
     "execution_count": 37,
     "metadata": {},
     "output_type": "execute_result"
    }
   ],
   "source": [
    "d[0]"
   ],
   "metadata": {
    "collapsed": false,
    "pycharm": {
     "name": "#%%\n"
    }
   }
  }
 ],
 "metadata": {
  "kernelspec": {
   "display_name": "Python 3",
   "language": "python",
   "name": "python3"
  },
  "language_info": {
   "codemirror_mode": {
    "name": "ipython",
    "version": 2
   },
   "file_extension": ".py",
   "mimetype": "text/x-python",
   "name": "python",
   "nbconvert_exporter": "python",
   "pygments_lexer": "ipython2",
   "version": "2.7.6"
  }
 },
 "nbformat": 4,
 "nbformat_minor": 0
}